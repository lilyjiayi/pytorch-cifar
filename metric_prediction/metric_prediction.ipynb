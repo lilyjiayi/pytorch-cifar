{
 "cells": [
  {
   "cell_type": "code",
   "execution_count": 2,
   "metadata": {},
   "outputs": [],
   "source": [
    "import pandas as pd\n",
    "import numpy as np\n",
    "import matplotlib.pyplot as plt"
   ]
  },
  {
   "cell_type": "code",
   "execution_count": 3,
   "metadata": {},
   "outputs": [
    {
     "name": "stdout",
     "output_type": "stream",
     "text": [
      "Index(['run', 'domains', 'method', 'id'], dtype='object')\n",
      "[[0.6494  0.1652  0.3111  0.09699 0.4735  0.287  ]\n",
      " [0.3247  0.4174  0.3926  0.05351 0.4875  0.2963 ]\n",
      " [0.3247  0.2435  0.763   0.0903  0.6072  0.3889 ]\n",
      " [0.1299  0.04348 0.05926 0.7458  0.1142  0.1019 ]\n",
      " [0.4156  0.1478  0.437   0.08027 0.8384  0.3796 ]\n",
      " [0.4286  0.09565 0.2444  0.1739  0.4652  0.6574 ]]\n"
     ]
    }
   ],
   "source": [
    "# Load files \n",
    "run_info = pd.read_csv(\"./run_info.csv\") # stores config information of each run\n",
    "print(run_info.columns) \n",
    "cross_validation = pd.read_csv(\"./cross_validation.csv\", header=None) # ERM evaluations, (i,j) entry is accuracy evaluated on domain j after training on 1000 samples from doamin i\n",
    "cross_validation = cross_validation.values\n",
    "print(cross_validation)"
   ]
  },
  {
   "cell_type": "code",
   "execution_count": 15,
   "metadata": {},
   "outputs": [],
   "source": [
    "# Calculate data efficiencies of active learning under different domain compositions\n",
    "threshold_round = 60 # the query at which we select margin's val acc and use that to find data efficiency compared with random\n",
    "smoothing_factor = 5 # take mean(rounds i to i + smoothing_factor - 1) as value for round i, smooth out stochastic variance\n",
    "\n",
    "al_performance = pd.read_csv(\"./al_performance.csv\")\n",
    "num_runs = al_performance.shape[1] - 1\n",
    "run_names = list(al_performance.columns)[1:]\n",
    "\n",
    "al_perf_dict = {}\n",
    "runs = []\n",
    "effs = []\n",
    "for i in range(num_runs):\n",
    "    run_name = run_names[i]\n",
    "    info = run_info.loc[run_info['run']==run_name]\n",
    "    # print(info)\n",
    "    if info['method'].values[0] == 'margin':\n",
    "        margin_perf = al_performance.loc[:, run_name].values\n",
    "        random_dual_info = run_info.loc[(run_info['domains'] == info['domains'].values[0]) & (run_info['method'] == 'random')]\n",
    "        # print(random_dual_info)\n",
    "        random_name = random_dual_info['run'].values[0]\n",
    "        random_perf = al_performance.loc[:, random_name].values\n",
    "        \n",
    "        smoothed_margin_perf = [np.mean(margin_perf[i: i+smoothing_factor]) for i in range(len(margin_perf)-smoothing_factor + 1)]\n",
    "        smoothed_random_perf = [np.mean(random_perf[i: i+smoothing_factor]) for i in range(len(random_perf)-smoothing_factor + 1)]\n",
    "        threshold_acc = smoothed_margin_perf[threshold_round]\n",
    "        first_matching_index = np.sort(np.nonzero(smoothed_random_perf > threshold_acc)[0])[0]\n",
    "        efficiency = first_matching_index / threshold_round\n",
    "        # print(f\"matching index is {first_matching_index}\")\n",
    "        # print(f\"data efficiency is {efficiency}\")\n",
    "        al_perf_dict[run_name] = efficiency\n",
    "        runs.append(run_name)\n",
    "        effs.append(efficiency)"
   ]
  },
  {
   "cell_type": "code",
   "execution_count": 19,
   "metadata": {},
   "outputs": [
    {
     "name": "stdout",
     "output_type": "stream",
     "text": [
      "Number of datapoints: 14\n",
      "{'margin_nosketch-2a7r48ur': 1.5833333333333333, 'margin_noclip_paint-12y1yy66': 1.45, 'margin_paint_quick_real-180euuq7': 1.75, 'margin_info_paint_quick-2i5ddcd9': 1.7, 'margin_noquick_sketch-2ui586n7': 1.95, 'margin_clip_quick_real-2yesp4ji': 1.2166666666666666, 'margin_paint_real_sketch-h5nl4egc': 2.216666666666667, 'margin_nopaint_real-jdfh8v5v': 1.0833333333333333, 'margin_noquickdraw_real-1m5myjkn': 0.9666666666666667, 'margin_nopainting_sketch-3o9jdbpv': 1.0833333333333333, 'margin_noquickdraw-1uy4ywmf': 1.2833333333333334, 'margin_noinfograph-2oap9tih': 1.4833333333333334, 'margin_noreal-2txy2u4x': 0.95, 'margin_noinfograph_real-3n79cu33': 1.1833333333333333}\n"
     ]
    }
   ],
   "source": [
    "print(f\"Number of datapoints: {len(runs)}\")\n",
    "print(al_perf_dict)"
   ]
  },
  {
   "cell_type": "code",
   "execution_count": 9,
   "metadata": {},
   "outputs": [],
   "source": [
    "# Calculate prediction metrics\n",
    "# metric1 = sum_i natural_weight(i) sum_j selection_weight(j) acc(j->i)\n",
    "# metric2 = sum_i natural_weight(i) sum_j selection_weight(j) acc(j->i)/acc(i->i)"
   ]
  },
  {
   "cell_type": "code",
   "execution_count": 10,
   "metadata": {},
   "outputs": [],
   "source": [
    "# DOMAIN_NET_DOMAINS = [\"clipart\", \"infograph\", \"painting\", \"quickdraw\", \"real\", \"sketch\"]\n",
    "num_domain = 6\n",
    "natural_counts = np.array([3672, 5069, 6553, 14000, 15985, 5466])"
   ]
  },
  {
   "cell_type": "code",
   "execution_count": 11,
   "metadata": {},
   "outputs": [
    {
     "name": "stdout",
     "output_type": "stream",
     "text": [
      "Calculated selection_freq is of shape (6, 14)\n"
     ]
    }
   ],
   "source": [
    "# Load selection frequency files and calculate margin's selection weight\n",
    "n = 3 # use the average selection freq of the first n query rounds as heuristics for al selection weight\n",
    "freq = pd.read_csv(f\"./selection_frequency/0.csv\")\n",
    "columns = list(freq.columns)\n",
    "selection_freq = pd.DataFrame(data = np.zeros((num_domain, len(columns))), columns=columns)\n",
    "for i in range(num_domain):\n",
    "    domain = i \n",
    "    file = f\"./selection_frequency/{domain}.csv\"\n",
    "    freq = pd.read_csv(file)\n",
    "    # print(freq.shape)\n",
    "    first_n_rounds = freq.iloc[:n, :].to_numpy()\n",
    "    average = np.mean(first_n_rounds, axis = 0)\n",
    "    selection_freq.iloc[i, :] = average\n",
    "print(f\"Calculated selection_freq is of shape {selection_freq.shape}\")"
   ]
  },
  {
   "cell_type": "code",
   "execution_count": 12,
   "metadata": {},
   "outputs": [],
   "source": [
    "# For each datapoint (domain composition), calculate prediction metrics\n",
    "metrics1 = []\n",
    "metrics2 = []\n",
    "for run in runs:\n",
    "    # print(run)\n",
    "    domain_str = str(run_info.loc[run_info['run'] == run, 'domains'].values[0])\n",
    "    # print(domain_str)\n",
    "    domains = [int(g) - 1 for g in domain_str]\n",
    "    # print(domains)\n",
    "    mask = np.zeros(num_domain)\n",
    "    mask[domains] = 1\n",
    "    natural_weight = mask * natural_counts \n",
    "    natural_weight = natural_weight / np.sum(natural_weight)\n",
    "    # print(natural_weight)\n",
    "    selection_weight = selection_freq.loc[:,run].values / 100\n",
    "    # print(selection_weight)\n",
    "    metric1 = np.sum(np.sum(cross_validation * selection_weight.reshape((-1, 1)), axis = 0) * natural_weight)\n",
    "    metrics1.append(metric1)\n",
    "    diagonal = np.reshape(np.diagonal(cross_validation), (1, -1))\n",
    "    metric2 = np.sum(np.sum(cross_validation / diagonal * selection_weight.reshape((-1, 1)), axis = 0) * natural_weight)\n",
    "    metrics2.append(metric2)"
   ]
  },
  {
   "cell_type": "markdown",
   "metadata": {},
   "source": []
  },
  {
   "cell_type": "code",
   "execution_count": 17,
   "metadata": {},
   "outputs": [
    {
     "data": {
      "image/png": "[encoded data removed]",
      "text/plain": [
       "<Figure size 432x288 with 1 Axes>"
      ]
     },
     "metadata": {
      "needs_background": "light"
     },
     "output_type": "display_data"
    }
   ],
   "source": [
    "plt.scatter(effs, metrics1, label=\"al performance prediction\")\n",
    "plt.title(\"Metric 1\")\n",
    "plt.xlabel(\"active learning data efficiency\")\n",
    "plt.ylabel(\"predicted metric\")\n",
    "plt.show()"
   ]
  },
  {
   "cell_type": "code",
   "execution_count": 18,
   "metadata": {},
   "outputs": [
    {
     "data": {
      "image/png": "[encoded data removed]",
      "text/plain": [
       "<Figure size 432x288 with 1 Axes>"
      ]
     },
     "metadata": {
      "needs_background": "light"
     },
     "output_type": "display_data"
    }
   ],
   "source": [
    "plt.scatter(effs, metrics2, label=\"al performance prediction\")\n",
    "plt.title(\"Metric 2\")\n",
    "plt.xlabel(\"active learning data efficiency\")\n",
    "plt.ylabel(\"predicted metric\")\n",
    "plt.show()"
   ]
  },
  {
   "cell_type": "code",
   "execution_count": null,
   "metadata": {},
   "outputs": [],
   "source": []
  }
 ],
 "metadata": {
  "interpreter": {
   "hash": "05f35301a145bcc6631b613e37182670b1ed35648a34016edacd15c8dfa00bf2"
  },
  "kernelspec": {
   "display_name": "Python 3.7.9 ('cs224n')",
   "language": "python",
   "name": "python3"
  },
  "language_info": {
   "codemirror_mode": {
    "name": "ipython",
    "version": 3
   },
   "file_extension": ".py",
   "mimetype": "text/x-python",
   "name": "python",
   "nbconvert_exporter": "python",
   "pygments_lexer": "ipython3",
   "version": "3.7.9"
  },
  "orig_nbformat": 4
 },
 "nbformat": 4,
 "nbformat_minor": 2
}
