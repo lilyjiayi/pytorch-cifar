{
 "cells": [
  {
   "cell_type": "code",
   "execution_count": 1,
   "metadata": {},
   "outputs": [],
   "source": [
    "import scipy as sp\n",
    "import scipy.optimize as optimize\n",
    "import numpy as np\n",
    "import pandas as pd"
   ]
  },
  {
   "cell_type": "code",
   "execution_count": 2,
   "metadata": {},
   "outputs": [],
   "source": [
    "def get_f(\n",
    "    data,\n",
    "    num_cat,\n",
    "    delta = 0.1,\n",
    "    train = True,\n",
    "):\n",
    "    \"\"\" \n",
    "    :param data: each row is errors + Ns (total len 2 * num_cat )\n",
    "    \"\"\"\n",
    "    def f(x):\n",
    "        \"\"\" \n",
    "        :param x: alpha, rho_ij\n",
    "        \"\"\"\n",
    "        loss = 0\n",
    "        alpha = x[0]\n",
    "        rho = x[1:].reshape((num_cat, num_cat))\n",
    "        # rho = np.ones((num_cat, num_cat)) * rho[0,0]\n",
    "        for d in data:\n",
    "            Ns = rho @ d[num_cat:]\n",
    "            log_error_hats = - alpha * np.log(Ns)\n",
    "            err = log_error_hats - np.log(d[:num_cat])\n",
    "            if train:\n",
    "                loss += np.sum(sp.special.huber(delta, err,))\n",
    "            else: \n",
    "                loss += np.sum(np.abs(np.exp(err) - 1))\n",
    "        return loss\n",
    "    return f"
   ]
  },
  {
   "cell_type": "code",
   "execution_count": 3,
   "metadata": {},
   "outputs": [],
   "source": [
    "num_cat = 6\n",
    "x0 = np.array([0.5] + [0.001] * (num_cat ** 2))\n",
    "bounds = [(0, 10)] + [(0.00000001, None)] * (num_cat ** 2)\n",
    "data = pd.read_csv(\"domainnet_transfer.csv\").to_numpy()\n",
    "f = get_f( \n",
    "    data, \n",
    "    num_cat,\n",
    "    delta = 2,\n",
    ")"
   ]
  },
  {
   "cell_type": "code",
   "execution_count": 4,
   "metadata": {},
   "outputs": [
    {
     "data": {
      "text/plain": [
       "1070.1566971383922"
      ]
     },
     "execution_count": 4,
     "metadata": {},
     "output_type": "execute_result"
    }
   ],
   "source": [
    "f(x0)"
   ]
  },
  {
   "cell_type": "code",
   "execution_count": 5,
   "metadata": {},
   "outputs": [
    {
     "name": "stdout",
     "output_type": "stream",
     "text": [
      "      fun: 136.32765745072825\n",
      " hess_inv: <37x37 LbfgsInvHessProduct with dtype=float64>\n",
      "      jac: array([ 6.20380774e+00, -1.51733776e+05,  6.37212812e+05,  5.55450113e+05,\n",
      "        9.14484583e+05,  1.67602150e+05, -1.39786798e+05,  5.19907915e+05,\n",
      "        2.47205100e+05, -4.50109733e+04,  7.84245353e+06,  8.44318806e+05,\n",
      "        1.16975529e+06,  4.01848668e+05, -1.99089551e+05,  5.75655274e+04,\n",
      "        1.00803836e+07,  2.84027708e+04,  6.06722602e+05, -1.37614192e+05,\n",
      "        6.71986531e+06,  9.31790682e+06,  1.38063790e+05,  4.79464431e+06,\n",
      "        4.95036044e+05,  1.32060534e+05,  1.36060941e+05,  1.33216225e+05,\n",
      "        6.69114067e+06, -2.82267155e+05, -2.56748167e+05,  1.17335293e+05,\n",
      "        8.31455788e+04, -9.45480084e+05, -4.20340705e+04, -1.84889371e+05,\n",
      "        1.39782052e+05])\n",
      "  message: b'ABNORMAL_TERMINATION_IN_LNSRCH'\n",
      "     nfev: 3192\n",
      "      nit: 35\n",
      "     njev: 84\n",
      "   status: 2\n",
      "  success: False\n",
      "        x: array([2.20272583e-01, 2.60692110e-06, 7.50644833e-08, 1.70157280e-07,\n",
      "       1.85204982e-08, 2.45894964e-07, 2.00497860e-07, 1.81334175e-08,\n",
      "       1.16903614e-07, 1.54107722e-08, 1.00000000e-08, 1.85883418e-08,\n",
      "       1.00000000e-08, 1.39216640e-07, 5.68952187e-08, 1.95153078e-06,\n",
      "       1.00000000e-08, 2.26039693e-07, 6.07375630e-08, 1.58829110e-08,\n",
      "       1.00000000e-08, 1.00000000e-08, 2.55666041e-06, 1.00000000e-08,\n",
      "       1.98919879e-08, 1.00986401e-06, 2.07061532e-07, 1.10841895e-06,\n",
      "       1.00000000e-08, 3.33247906e-06, 1.61992333e-07, 1.62930905e-07,\n",
      "       4.32177157e-08, 4.90154507e-08, 1.55214844e-08, 6.05560197e-08,\n",
      "       1.82963068e-06])\n"
     ]
    }
   ],
   "source": [
    "result = optimize.minimize( \n",
    "    fun=f, \n",
    "    x0 = x0,\n",
    "    bounds = bounds,\n",
    "    tol = 0.0001,\n",
    ")\n",
    "print(result)"
   ]
  },
  {
   "cell_type": "code",
   "execution_count": 157,
   "metadata": {},
   "outputs": [
    {
     "name": "stdout",
     "output_type": "stream",
     "text": [
      "0.22029656826013871\n",
      "[[0.9442291  0.02721714 0.06163647 0.00672209 0.08916062 0.0726613 ]\n",
      " [0.00656354 0.0423537  0.00559854 0.00362038 0.00672576 0.00362038]\n",
      " [0.05046871 0.02059828 0.70689877 0.00362038 0.08197648 0.02204907]\n",
      " [0.00574867 0.00362038 0.00362038 0.9261102  0.00362038 0.00720927]\n",
      " [0.36581148 0.07496495 0.40150777 0.00362038 1.2069686  0.05867445]\n",
      " [0.05900094 0.01568705 0.01777999 0.00564163 0.02192233 0.66277045]]\n"
     ]
    }
   ],
   "source": [
    "alpha = result.x[0]\n",
    "rho = result.x[1:].reshape((num_cat, num_cat))\n",
    "print(alpha)\n",
    "print(rho / np.sum(rho) * num_cat)"
   ]
  },
  {
   "cell_type": "code",
   "execution_count": 160,
   "metadata": {},
   "outputs": [
    {
     "name": "stdout",
     "output_type": "stream",
     "text": [
      "[[1.         0.64261547 0.08719278 0.00725841 0.07387153 0.10963268]\n",
      " [0.00695121 1.         0.00791985 0.00390923 0.00557244 0.00546249]\n",
      " [0.05344965 0.4863397  1.         0.00390923 0.06791932 0.03326803]\n",
      " [0.00608822 0.08547961 0.00512149 1.         0.00299956 0.01087748]\n",
      " [0.38741814 1.76997422 0.56798482 0.00390923 1.         0.08852906]\n",
      " [0.06248583 0.37038215 0.0251521  0.00609175 0.01816313 1.        ]]\n"
     ]
    }
   ],
   "source": [
    "print(rho / np.diagonal(rho).reshape((1, -1)))"
   ]
  },
  {
   "cell_type": "code",
   "execution_count": 155,
   "metadata": {},
   "outputs": [
    {
     "data": {
      "text/plain": [
       "0.046340293287311436"
      ]
     },
     "execution_count": 155,
     "metadata": {},
     "output_type": "execute_result"
    }
   ],
   "source": [
    "test_f = get_f( \n",
    "    data, \n",
    "    num_cat,\n",
    "    train=False,\n",
    ")\n",
    "test_f(result.x) / data.shape[0] / data.shape[1]"
   ]
  },
  {
   "cell_type": "code",
   "execution_count": 143,
   "metadata": {},
   "outputs": [
    {
     "data": {
      "text/plain": [
       "1.3603386159437398"
      ]
     },
     "execution_count": 143,
     "metadata": {},
     "output_type": "execute_result"
    }
   ],
   "source": [
    "np.exp(np.sqrt(0.0947))"
   ]
  },
  {
   "cell_type": "code",
   "execution_count": null,
   "metadata": {},
   "outputs": [],
   "source": []
  }
 ],
 "metadata": {
  "kernelspec": {
   "display_name": "Python 3.9.0 ('py39')",
   "language": "python",
   "name": "python3"
  },
  "language_info": {
   "codemirror_mode": {
    "name": "ipython",
    "version": 3
   },
   "file_extension": ".py",
   "mimetype": "text/x-python",
   "name": "python",
   "nbconvert_exporter": "python",
   "pygments_lexer": "ipython3",
   "version": "3.7.9"
  },
  "orig_nbformat": 4,
  "vscode": {
   "interpreter": {
    "hash": "d3841dd48115e98d13f2ddf6e3f08b76e6c420f09180e4cf799d87aae7a1882d"
   }
  }
 },
 "nbformat": 4,
 "nbformat_minor": 2
}
