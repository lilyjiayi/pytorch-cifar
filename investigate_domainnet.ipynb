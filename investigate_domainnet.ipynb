{
 "cells": [
  {
   "cell_type": "code",
   "execution_count": 1,
   "id": "0f46bc67",
   "metadata": {},
   "outputs": [],
   "source": [
    "import torch\n",
    "import torch.nn as nn\n",
    "import torch.optim as optim\n",
    "import torch.nn.functional as F\n",
    "import torch.backends.cudnn as cudnn\n",
    "import torchvision\n",
    "import torchvision.transforms as transforms\n",
    "import torchmetrics\n",
    "from cnn_finetune import make_model\n",
    "from torchvision.utils import save_image\n",
    "\n",
    "import time\n",
    "import numpy as np\n",
    "import pandas as pd\n",
    "from tqdm import tqdm\n",
    "\n",
    "from torch.utils.data import DataLoader, Dataset, Subset\n",
    "from wilds import get_dataset\n",
    "from wilds.datasets.wilds_dataset import WILDSSubset\n",
    "from wilds.common.data_loaders import get_train_loader, get_eval_loader\n",
    "from wilds.common.grouper import CombinatorialGrouper"
   ]
  },
  {
   "cell_type": "code",
   "execution_count": 4,
   "id": "9a17543a",
   "metadata": {},
   "outputs": [],
   "source": [
    "DOMAIN_NET_DOMAINS = [\"clipart\", \"infograph\", \"painting\", \"quickdraw\", \"real\", \"sketch\"]\n",
    "SENTRY_DOMAINS = [\"clipart\", \"painting\", \"real\", \"sketch\"]\n",
    "dataset = get_dataset(dataset='domainnet', download=False, root_dir = '/self/scr-sync/nlp/domainnet', use_sentry=False) # use_sentry denotes whether to use domainnet four or not\n",
    "meta_array = dataset.metadata_array #the first column is domain and the second column is y\n",
    "\n",
    "grouper = CombinatorialGrouper(dataset, ['domain']) # 6 groups\n",
    "label_grouper = CombinatorialGrouper(dataset, ['y']) # 350 groups\n",
    "full_grouper = CombinatorialGrouper(dataset, ['domain','y']) # 6 * 350 groups"
   ]
  },
  {
   "cell_type": "code",
   "execution_count": 8,
   "id": "ac6396c5",
   "metadata": {},
   "outputs": [
    {
     "name": "stdout",
     "output_type": "stream",
     "text": [
      "tensor([0.0821, 0.0880, 0.1232, 0.2941, 0.2948, 0.1179])\n"
     ]
    }
   ],
   "source": [
    "group, group_counts = grouper.metadata_to_group(meta_array, return_counts=True)\n",
    "print(group_counts / torch.sum(group_counts))"
   ]
  },
  {
   "cell_type": "code",
   "execution_count": 9,
   "id": "4e9f8ef3",
   "metadata": {},
   "outputs": [
    {
     "name": "stdout",
     "output_type": "stream",
     "text": [
      "tensor([0.0020, 0.0024, 0.0024, 0.0024, 0.0026, 0.0033, 0.0023, 0.0021, 0.0023,\n",
      "        0.0027, 0.0033, 0.0025, 0.0031, 0.0030, 0.0026, 0.0030, 0.0021, 0.0024,\n",
      "        0.0031, 0.0025, 0.0025, 0.0026, 0.0034, 0.0031, 0.0040, 0.0031, 0.0031,\n",
      "        0.0026, 0.0029, 0.0036, 0.0027, 0.0040, 0.0024, 0.0025, 0.0031, 0.0030,\n",
      "        0.0024, 0.0032, 0.0032, 0.0035, 0.0035, 0.0039, 0.0037, 0.0030, 0.0028,\n",
      "        0.0021, 0.0026, 0.0032, 0.0022, 0.0036, 0.0025, 0.0029, 0.0018, 0.0015,\n",
      "        0.0027, 0.0023, 0.0017, 0.0025, 0.0028, 0.0018, 0.0031, 0.0029, 0.0028,\n",
      "        0.0028, 0.0034, 0.0015, 0.0022, 0.0024, 0.0021, 0.0021, 0.0024, 0.0029,\n",
      "        0.0021, 0.0026, 0.0026, 0.0032, 0.0018, 0.0022, 0.0024, 0.0023, 0.0022,\n",
      "        0.0026, 0.0028, 0.0025, 0.0029, 0.0019, 0.0031, 0.0033, 0.0026, 0.0022,\n",
      "        0.0025, 0.0044, 0.0031, 0.0031, 0.0029, 0.0026, 0.0016, 0.0024, 0.0032,\n",
      "        0.0030, 0.0033, 0.0024, 0.0024, 0.0039, 0.0031, 0.0019, 0.0038, 0.0030,\n",
      "        0.0031, 0.0020, 0.0040, 0.0029, 0.0029, 0.0025, 0.0027, 0.0032, 0.0035,\n",
      "        0.0029, 0.0030, 0.0026, 0.0022, 0.0035, 0.0026, 0.0027, 0.0023, 0.0033,\n",
      "        0.0025, 0.0033, 0.0025, 0.0029, 0.0030, 0.0046, 0.0036, 0.0031, 0.0031,\n",
      "        0.0030, 0.0020, 0.0032, 0.0029, 0.0031, 0.0033, 0.0030, 0.0036, 0.0030,\n",
      "        0.0032, 0.0024, 0.0025, 0.0036, 0.0024, 0.0036, 0.0027, 0.0029, 0.0022,\n",
      "        0.0026, 0.0032, 0.0022, 0.0034, 0.0025, 0.0023, 0.0027, 0.0018, 0.0027,\n",
      "        0.0026, 0.0023, 0.0030, 0.0026, 0.0025, 0.0032, 0.0029, 0.0031, 0.0023,\n",
      "        0.0037, 0.0027, 0.0023, 0.0033, 0.0025, 0.0032, 0.0027, 0.0024, 0.0032,\n",
      "        0.0022, 0.0017, 0.0026, 0.0026, 0.0027, 0.0020, 0.0034, 0.0032, 0.0026,\n",
      "        0.0031, 0.0033, 0.0023, 0.0028, 0.0023, 0.0031, 0.0038, 0.0039, 0.0031,\n",
      "        0.0030, 0.0029, 0.0021, 0.0033, 0.0032, 0.0021, 0.0037, 0.0023, 0.0023,\n",
      "        0.0032, 0.0027, 0.0027, 0.0023, 0.0028, 0.0034, 0.0022, 0.0022, 0.0030,\n",
      "        0.0026, 0.0027, 0.0037, 0.0026, 0.0027, 0.0023, 0.0033, 0.0029, 0.0031,\n",
      "        0.0028, 0.0026, 0.0027, 0.0036, 0.0029, 0.0030, 0.0024, 0.0024, 0.0024,\n",
      "        0.0025, 0.0030, 0.0034, 0.0021, 0.0025, 0.0016, 0.0024, 0.0024, 0.0030,\n",
      "        0.0027, 0.0036, 0.0025, 0.0029, 0.0032, 0.0027, 0.0017, 0.0033, 0.0028,\n",
      "        0.0032, 0.0030, 0.0027, 0.0037, 0.0030, 0.0033, 0.0039, 0.0041, 0.0030,\n",
      "        0.0032, 0.0025, 0.0033, 0.0031, 0.0030, 0.0028, 0.0023, 0.0032, 0.0036,\n",
      "        0.0035, 0.0026, 0.0038, 0.0027, 0.0036, 0.0035, 0.0038, 0.0032, 0.0043,\n",
      "        0.0030, 0.0029, 0.0043, 0.0035, 0.0020, 0.0035, 0.0024, 0.0033, 0.0021,\n",
      "        0.0018, 0.0032, 0.0037, 0.0036, 0.0023, 0.0038, 0.0034, 0.0031, 0.0033,\n",
      "        0.0028, 0.0024, 0.0034, 0.0028, 0.0042, 0.0038, 0.0034, 0.0029, 0.0030,\n",
      "        0.0026, 0.0033, 0.0032, 0.0026, 0.0022, 0.0042, 0.0032, 0.0023, 0.0032,\n",
      "        0.0027, 0.0034, 0.0028, 0.0035, 0.0035, 0.0026, 0.0039, 0.0047, 0.0034,\n",
      "        0.0030, 0.0039, 0.0026, 0.0024, 0.0035, 0.0026, 0.0035, 0.0035, 0.0031,\n",
      "        0.0032, 0.0038, 0.0029, 0.0043, 0.0027, 0.0040, 0.0032, 0.0034, 0.0034,\n",
      "        0.0032, 0.0039, 0.0033])\n"
     ]
    }
   ],
   "source": [
    "group, group_counts = label_grouper.metadata_to_group(meta_array, return_counts=True)\n",
    "print(group_counts / torch.sum(group_counts))"
   ]
  },
  {
   "cell_type": "code",
   "execution_count": null,
   "id": "86d20510",
   "metadata": {},
   "outputs": [],
   "source": []
  }
 ],
 "metadata": {
  "kernelspec": {
   "display_name": "Python [conda env:jl_ffcv]",
   "language": "python",
   "name": "conda-env-jl_ffcv-py"
  },
  "language_info": {
   "codemirror_mode": {
    "name": "ipython",
    "version": 3
   },
   "file_extension": ".py",
   "mimetype": "text/x-python",
   "name": "python",
   "nbconvert_exporter": "python",
   "pygments_lexer": "ipython3",
   "version": "3.9.13"
  }
 },
 "nbformat": 4,
 "nbformat_minor": 5
}
